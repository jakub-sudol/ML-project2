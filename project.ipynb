{
 "cells": [
  {
   "cell_type": "markdown",
   "id": "c65f0e0d",
   "metadata": {},
   "source": [
    "Dataset: You will work with an artificially generated dataset, consisting of 2000 samples, 400 input \n",
    "variables and two output variables called class and output. All input variables are standard-scaled \n",
    "real numbers. The class variable is discrete and has two possible values - 0 and 1. The other output \n",
    "variable is also a real number. Both output variables have non-trivial dependency on some of  the \n",
    "input variables. Your task is to build ML models predicting the output variables based on the input \n",
    "variables and analyze the dataset, your models and the nature of the dependencies you uncovered.  \n",
    " \n",
    "Desired output: You are supposed to submit Jupyter notebook with the solutions, commentary, \n",
    "and results by Moodle. Please make sure your notebook opens and works in Google Colab, it will \n",
    "not be graded otherwise. Your solutions will be graded by lab assistants of respective groups.Your \n",
    "solution should include a function that can process a “validation_data.csv” file with the same \n",
    "structure as your training data and compute the classification accuracies and R^2 values on \n",
    "these data for both your baseline and best models (in total 4 numbers). "
   ]
  },
  {
   "cell_type": "code",
   "execution_count": 136,
   "id": "eaf16d6f",
   "metadata": {},
   "outputs": [],
   "source": [
    "import pandas as pd\n",
    "\n",
    "file = 'zad2_wum_data_for_students.csv'\n",
    "\n",
    "df = pd.read_csv(file, sep=';')"
   ]
  },
  {
   "cell_type": "markdown",
   "id": "b00634a1",
   "metadata": {},
   "source": [
    "Task 1. Building baseline models (6 points: 3 for regression + 3 for classification) Given the \n",
    "dataset, you should  build baseline models using linear regression and logistic regression for \n",
    "output and class variables respectively using all input variables as predictors, without any \n",
    "pre-processing (such as dimensionality reduction). Assess their performance on the training data \n",
    "and estimate their ability to generalize beyond training data by one of the methods you have \n",
    "learned in our lectures.  Comment on the results."
   ]
  },
  {
   "cell_type": "code",
   "execution_count": 137,
   "id": "538571f2",
   "metadata": {},
   "outputs": [
    {
     "data": {
      "text/plain": [
       "{'baseline_r^2': 0.4463990746888592, 'baseline_accuracy': 0.5175}"
      ]
     },
     "execution_count": 137,
     "metadata": {},
     "output_type": "execute_result"
    }
   ],
   "source": [
    "import numpy as np\n",
    "from sklearn.linear_model import LinearRegression, LogisticRegression\n",
    "from sklearn.metrics import r2_score\n",
    "from sklearn.model_selection import train_test_split\n",
    "from sklearn.metrics import accuracy_score\n",
    "\n",
    "def baseline_models(df):\n",
    "    \"\"\"\n",
    "    Calculate baseline models for the given DataFrame.\n",
    "    \n",
    "    Parameters:\n",
    "    df (DataFrame): The input DataFrame containing the data.\n",
    "    \n",
    "    Returns:\n",
    "    results (dict): A dictionary containing the R^2 score for linear regression and accuracy for logistic regression.\n",
    "    \"\"\"\n",
    "    \n",
    "    # linear regression\n",
    "    results = {}\n",
    "\n",
    "    Y = df['Output']\n",
    "    X = df.copy()\n",
    "    X.drop(columns=['Output', 'Class'], inplace=True)\n",
    "\n",
    "    X_train, X_test, Y_train, Y_test = train_test_split(X, Y, test_size=0.2, random_state=42)\n",
    "    model = LinearRegression()\n",
    "    model.fit(X_train, Y_train)\n",
    "    Y_pred = model.predict(X_test)\n",
    "    r2 = r2_score(Y_test, Y_pred)\n",
    "\n",
    "    results['baseline_r^2'] = r2\n",
    "\n",
    "    Y = df['Class']\n",
    "    X = df.copy()\n",
    "    X.drop(columns=['Class', 'Output'], inplace=True)\n",
    "    X_train, X_test, Y_train, Y_test = train_test_split(X, Y, test_size=0.2, random_state=42)\n",
    "    model = LogisticRegression()\n",
    "    model.fit(X_train, Y_train)\n",
    "    Y_pred = model.predict(X_test)\n",
    "    accuracy = accuracy_score(Y_test, Y_pred)\n",
    "    \n",
    "    results['baseline_accuracy'] = accuracy\n",
    "    return results\n",
    "\n",
    "baseline_models(df)\n"
   ]
  },
  {
   "cell_type": "markdown",
   "id": "1f092aae",
   "metadata": {},
   "source": [
    "Results:\n",
    "\n",
    "The baseline linear regression model explains about 44.6% of the variance in the target variable.\n",
    "This suggests that the model captures some of the relationships in the data, but there is still room for improvement.\n",
    "\n",
    "The baseline logistic regression model achieves only 51.75% accuracy, which is slightly better than random guessing.\n",
    "This indicates that the model struggles to distinguish between the two classes and likely needs more advanced methods"
   ]
  },
  {
   "cell_type": "markdown",
   "id": "a6f9a64f",
   "metadata": {},
   "source": [
    "Task 2. More advanced classification (12 points: 3 for using a more advanced method, 3 for \n",
    "parameter optimization, 3 for feature selection, 3 for the result analysis) Using some of the \n",
    "classification methods you have learned in the lecture try to create an improved model that performs \n",
    "better than your baseline model. You can use more complex strategies using resampling, \n",
    "cross-validation and/or model selection. Utilize the knowledge that the class variable depends on \n",
    "some of the predictors, but not necessarily all. You can also use pre-processing of the input \n",
    "variables, such as dimensionality reduction. If your model is based on some features selected from \n",
    "the original data, you should provide the list of features you have selected. Comment on any choices \n",
    "you make in the process and what is the relative improvement over the baseline model."
   ]
  },
  {
   "cell_type": "code",
   "execution_count": 138,
   "id": "869f1a32",
   "metadata": {},
   "outputs": [],
   "source": [
    "from sklearn.model_selection import cross_val_score\n",
    "from sklearn.neural_network import MLPClassifier\n",
    "from sklearn.ensemble import RandomForestClassifier\n",
    "\n",
    "def advanced_classification(df):\n",
    "    \"\"\"\n",
    "    Perform advanced classification using Random Forest and MLPClassifier.\n",
    "    \n",
    "    Parameters:\n",
    "    df (DataFrame): The input DataFrame containing the data.\n",
    "    \n",
    "    Returns:\n",
    "    float: The final accuracy of the model on the test set.\n",
    "    \"\"\"\n",
    "    \n",
    "    X = df.copy()\n",
    "    X.drop(columns=['Output', 'Class'], inplace=True)\n",
    "    Y = df['Class']\n",
    "\n",
    "    X_train, X_test, Y_train, Y_test = train_test_split(X, Y, test_size=0.2, random_state=42)\n",
    "\n",
    "    # Feature selection using Random Forest\n",
    "\n",
    "    rf = RandomForestClassifier(random_state=42)\n",
    "    rf.fit(X_train, Y_train)\n",
    "\n",
    "    importances = rf.feature_importances_\n",
    "    sorted_idx = np.argsort(importances)[::-1]\n",
    "    sorted_features = X_train.columns[sorted_idx]\n",
    "\n",
    "    # Select top features based on Random Forest importance\n",
    "\n",
    "    results = {}\n",
    "    ns = [5, 8, 9, 10, 11, 12, 13, 14, 17, 20]\n",
    "\n",
    "    for top_n in ns:\n",
    "        selected = sorted_features[:top_n]\n",
    "        scores = cross_val_score(MLPClassifier(max_iter=10000), X_train[selected], Y_train, cv=5)\n",
    "        results[top_n] = scores.mean()\n",
    "\n",
    "    best_n = max(results, key=results.get)\n",
    "    best_features = sorted_features[:best_n]\n",
    "\n",
    "    from matplotlib import pyplot as plt\n",
    "    plt.plot(results.keys(), results.values(), marker='o')\n",
    "    plt.xlabel(\"Liczba cech\")\n",
    "    plt.ylabel(\"Średnia dokładność (cross-val)\")\n",
    "    plt.title(\"Dobór liczby cech na podstawie RF\")\n",
    "    plt.grid(True)\n",
    "    plt.show()\n",
    "\n",
    "    # Train MLPClassifier on the best features\n",
    "\n",
    "    mlp = MLPClassifier(max_iter=10000, random_state=42)\n",
    "    mlp.fit(X_train[best_features], Y_train)\n",
    "    Y_pred = mlp.predict(X_test[best_features])\n",
    "    final_accuracy = accuracy_score(Y_test, Y_pred)\n",
    "\n",
    "    \n",
    "\n",
    "    return final_accuracy"
   ]
  },
  {
   "cell_type": "markdown",
   "id": "a5cda306",
   "metadata": {},
   "source": [
    "In the baseline classification model, the accuracy was 0.5175. After reducing the number of input features using a Random Forest-based feature selection method and subsequently training a neural network on the optimized feature set, the final accuracy improved significantly to 0.8325. This substantial gain indicates that the model not only became more efficient but also much more effective at correctly predicting the target classes. The combination of dimensionality reduction and a powerful nonlinear model like a neural network contributed to better generalization and overall performance."
   ]
  },
  {
   "cell_type": "markdown",
   "id": "82f6b1b5",
   "metadata": {},
   "source": [
    "Task 3. More advanced Regression (12 points: 3 for using a more advanced method, 3 for \n",
    "parameter optimization, 3 for feature selection, 3 for the result analysis) Using one of the \n",
    "approaches to model selection in classification that you have learned in the lecture, try to create an \n",
    "improved model that performs better than your baseline regression model. You can use more \n",
    "complex strategies using resampling, cross-validation and/or model selection. Utilize the knowledge \n",
    "that the output variable depends on some of the predictors, but not necessarily all of them. You can \n",
    "also use pre-processing of the input variables, such as dimensionality reduction. If your model is \n",
    "based on some features selected from the original data, you should provide the list of features you \n",
    "have selected. Comment on any choices you make in the process and what is the relative \n",
    "improvement over the baseline model."
   ]
  },
  {
   "cell_type": "code",
   "execution_count": 139,
   "id": "27aee2f5",
   "metadata": {},
   "outputs": [],
   "source": [
    "from sklearn.linear_model import Lasso\n",
    "from sklearn.model_selection import GridSearchCV\n",
    "from sklearn.metrics import r2_score\n",
    "\n",
    "def advanced_regression(df):\n",
    "    \"\"\"\n",
    "    Perform advanced regression using Lasso for feature selection and linear regression for prediction.\n",
    "    \n",
    "    Parameters:\n",
    "    df (DataFrame): The input DataFrame containing the data.\n",
    "    \n",
    "    Returns:\n",
    "    float: The R^2 score of the regression model after feature selection.\n",
    "    \"\"\"\n",
    "    \n",
    "    Y = df['Output']\n",
    "    X = df.copy()\n",
    "    X.drop(columns=['Output', 'Class'], inplace=True)\n",
    "\n",
    "\n",
    "    X_train, X_test, Y_train, Y_test = train_test_split(X, Y, test_size=0.2, random_state=42)\n",
    "\n",
    "    alpha_grid = {'alpha': np.linspace(0.01, 1, 1000)}\n",
    "\n",
    "    lasso = Lasso(max_iter=1000000, random_state=42)\n",
    "\n",
    "    # Using GridSearchCV to find the best alpha for Lasso regression\n",
    "\n",
    "    grid_search = GridSearchCV(estimator=lasso,\n",
    "                               param_grid=alpha_grid,\n",
    "                               cv=5,\n",
    "                               scoring='r2',\n",
    "                               n_jobs=-1,)\n",
    "    \n",
    "    grid_search.fit(X_train, Y_train)\n",
    "\n",
    "    # Selecting features based on the best estimator from grid search\n",
    "\n",
    "    X_train_selected = X_train.loc[:, abs(grid_search.best_estimator_.coef_) > 0.2]\n",
    "    X_test_selected = X_test.loc[:, abs(grid_search.best_estimator_.coef_) > 0.2]\n",
    "\n",
    "    # List of selected features\n",
    "    selected_features = X_train_selected.columns.tolist()\n",
    "\n",
    "    # Fit the model with selected features\n",
    "\n",
    "    model = LinearRegression()\n",
    "    model.fit(X_train_selected, Y_train)\n",
    "    Y_pred_selected = model.predict(X_test_selected)\n",
    "    r2 = r2_score(Y_test, Y_pred_selected)\n",
    "\n",
    "    return r2\n"
   ]
  },
  {
   "cell_type": "markdown",
   "id": "56a3372a",
   "metadata": {},
   "source": [
    "In the baseline model, the coefficient of determination (R²) was 0.4464, indicating that the model explained approximately 44.6% of the variance in the target variable. After applying advanced regression techniques, including a significant reduction in the number of parameters and careful tuning of the remaining ones, the R² increased to 0.5516. This improvement suggests that the optimized model fits the data more effectively and captures underlying patterns more accurately. Additionally, reducing model complexity likely enhanced generalization, reducing the risk of overfitting and improving performance on unseen data.\n"
   ]
  },
  {
   "cell_type": "code",
   "execution_count": 140,
   "id": "eabc94b4",
   "metadata": {},
   "outputs": [],
   "source": [
    "def process_data(file):\n",
    "    \"\"\"\n",
    "    Calculate baseline models, advanced classification, and advanced regression on the given CSV file.\n",
    "    Parameters:\n",
    "    file (str): The path to the CSV file containing the data.\n",
    "    \"\"\"\n",
    "    \n",
    "    df = pd.read_csv(file, sep=';')\n",
    "    baseline_results = baseline_models(df)\n",
    "    r2_baseline = baseline_results['baseline_r^2']\n",
    "    accuracy_baseline = baseline_results['baseline_accuracy']\n",
    "    print(f\"Baseline R^2: {r2_baseline}, Baseline Accuracy: {accuracy_baseline}\")\n",
    "\n",
    "    r2_advanced = advanced_regression(df)\n",
    "    print(f\"R^2 from advanced regression: {r2_advanced}\")\n",
    "\n",
    "    final_accuracy = advanced_classification(df)\n",
    "    print(f\"Accuracy from advanced classification: {final_accuracy}\")\n"
   ]
  },
  {
   "cell_type": "code",
   "execution_count": 141,
   "id": "3cb3d2f3",
   "metadata": {},
   "outputs": [
    {
     "name": "stdout",
     "output_type": "stream",
     "text": [
      "Baseline R^2: 0.4463990746888592, Baseline Accuracy: 0.5175\n",
      "R^2 from advanced regression: 0.5515902145801497\n"
     ]
    },
    {
     "data": {
      "image/png": "[encoded data removed]",
      "text/plain": [
       "<Figure size 640x480 with 1 Axes>"
      ]
     },
     "metadata": {},
     "output_type": "display_data"
    },
    {
     "name": "stdout",
     "output_type": "stream",
     "text": [
      "Accuracy from advanced classification: 0.8375\n"
     ]
    }
   ],
   "source": [
    "process_data(file)"
   ]
  }
 ],
 "metadata": {
  "kernelspec": {
   "display_name": "venv_awww",
   "language": "python",
   "name": "python3"
  },
  "language_info": {
   "codemirror_mode": {
    "name": "ipython",
    "version": 3
   },
   "file_extension": ".py",
   "mimetype": "text/x-python",
   "name": "python",
   "nbconvert_exporter": "python",
   "pygments_lexer": "ipython3",
   "version": "3.11.2"
  }
 },
 "nbformat": 4,
 "nbformat_minor": 5
}
